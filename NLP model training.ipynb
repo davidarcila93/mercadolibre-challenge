{
 "cells": [
  {
   "cell_type": "code",
   "execution_count": 1,
   "metadata": {},
   "outputs": [
    {
     "name": "stderr",
     "output_type": "stream",
     "text": [
      "[nltk_data] Downloading package punkt to /home/david/nltk_data...\n",
      "[nltk_data]   Package punkt is already up-to-date!\n",
      "[nltk_data] Downloading package stopwords to /home/david/nltk_data...\n",
      "[nltk_data]   Package stopwords is already up-to-date!\n"
     ]
    },
    {
     "data": {
      "text/plain": [
       "True"
      ]
     },
     "execution_count": 1,
     "metadata": {},
     "output_type": "execute_result"
    }
   ],
   "source": [
    "import pandas as pd\n",
    "import numpy as np\n",
    "import nltk\n",
    "import string\n",
    "import re\n",
    "import uuid\n",
    "import time\n",
    "\n",
    "from joblib import dump, load\n",
    "\n",
    "from sklearn.feature_extraction.text import CountVectorizer, TfidfVectorizer\n",
    "from sklearn.model_selection import train_test_split\n",
    "from sklearn.naive_bayes import MultinomialNB\n",
    "from sklearn.metrics import balanced_accuracy_score\n",
    "\n",
    "from collections import defaultdict\n",
    "\n",
    "from nltk.tokenize import word_tokenize\n",
    "from nltk.corpus import stopwords\n",
    "from nltk.stem import SnowballStemmer\n",
    "\n",
    "from unidecode import unidecode\n",
    "\n",
    "nltk.download('punkt') ## algorithm for tokenization\n",
    "nltk.download('stopwords')"
   ]
  },
  {
   "cell_type": "code",
   "execution_count": 2,
   "metadata": {},
   "outputs": [],
   "source": [
    "train = pd.read_csv('data/train.csv')\n",
    "unreliable_weight = 0.4\n",
    "train['weight'] = train['label_quality'].apply(lambda quality: 1. if quality == 'reliable' else unreliable_weight)"
   ]
  },
  {
   "cell_type": "code",
   "execution_count": 3,
   "metadata": {},
   "outputs": [],
   "source": [
    "train_spanish = train[train.language == 'spanish']\n",
    "train_portuguese = train[train.language == 'portuguese']"
   ]
  },
  {
   "cell_type": "code",
   "execution_count": 4,
   "metadata": {},
   "outputs": [],
   "source": [
    "train_spanish_reliable = train_spanish[train_spanish.label_quality == 'reliable']\n",
    "train_portuguese_reliable = train_portuguese[train_portuguese.label_quality == 'reliable']"
   ]
  },
  {
   "cell_type": "code",
   "execution_count": 5,
   "metadata": {},
   "outputs": [],
   "source": [
    "def filter_small_categories(df):\n",
    "    grouped = df.groupby(['category']).count()\n",
    "    available_categories = list(grouped[grouped['title'] > 1].index.to_numpy())\n",
    "    filtered = df[df.category.isin(available_categories)]\n",
    "    return filtered"
   ]
  },
  {
   "cell_type": "code",
   "execution_count": 6,
   "metadata": {},
   "outputs": [],
   "source": [
    "def my_preprocessor(doc):\n",
    "    return re.sub('[0-9¡¨ª®°´·º»½¿' + string.punctuation + ']', '', unidecode(doc)).lower()\n",
    "\n",
    "spanish_stemmer = SnowballStemmer('spanish')\n",
    "portuguese_stemmer = SnowballStemmer('portuguese')\n",
    "\n",
    "def spanish_stemmer_tokenizer(doc):\n",
    "    tokens = word_tokenize(doc)\n",
    "    return [spanish_stemmer.stem(token) for token in tokens]\n",
    "\n",
    "def portuguese_stemmer_tokenizer(doc):\n",
    "    tokens = word_tokenize(doc)\n",
    "    return [portuguese_stemmer.stem(token) for token in tokens]"
   ]
  },
  {
   "cell_type": "code",
   "execution_count": 7,
   "metadata": {},
   "outputs": [],
   "source": [
    "def elapsed_time(start, message):\n",
    "    end = time.time()\n",
    "    print( message + ': ', end-start )"
   ]
  },
  {
   "cell_type": "code",
   "execution_count": 8,
   "metadata": {},
   "outputs": [],
   "source": [
    "def train(titles, labels, weights, language='spanish', batches=200, epochs=400, max_features=8000, \n",
    "          min_df=3, max_df=0.7, test_size=0.1):\n",
    "    titles_train, titles_test, y_train, y_test, w_train, w_test = train_test_split(titles, labels, weights, test_size=test_size, random_state=42, stratify=labels)\n",
    "    print(titles_train.shape, titles_test.shape, y_train.shape, y_test.shape)\n",
    "    \n",
    "    run_id = uuid.uuid4().hex\n",
    "    print('Run id: ', run_id)\n",
    "    \n",
    "    if language == 'spanish':\n",
    "        stop_words = list(map(lambda word: spanish_stemmer.stem(unidecode(word)), stopwords.words(language)))\n",
    "        vectorizer = CountVectorizer(max_features=max_features, max_df=max_df, min_df=min_df, strip_accents='unicode', \n",
    "                                        stop_words=stop_words, tokenizer=spanish_stemmer_tokenizer, \n",
    "                                        preprocessor=my_preprocessor)\n",
    "    else:\n",
    "        stop_words = list(map(lambda word: portuguese_stemmer.stem(unidecode(word)), stopwords.words(language)))\n",
    "        vectorizer = CountVectorizer(max_features=max_features, max_df=max_df, min_df=min_df, strip_accents='unicode', \n",
    "                                        stop_words=stop_words, tokenizer=portuguese_stemmer_tokenizer, \n",
    "                                        preprocessor=my_preprocessor)\n",
    "    \n",
    "    start_time = time.time()\n",
    "    vectorizer.fit(titles_train)\n",
    "    elapsed_time(start_time, 'Fit vectorizer')\n",
    "    \n",
    "    dump(vectorizer, 'models/' + language + '_vectorizer_' + run_id + '.joblib')\n",
    "    \n",
    "    tokens = vectorizer.get_feature_names()\n",
    "\n",
    "    start_time = time.time()\n",
    "    X_train = vectorizer.transform(titles_train)\n",
    "    elapsed_time(start_time, 'Word2Vec X_train')\n",
    "    \n",
    "    start_time = time.time()\n",
    "    X_test = vectorizer.transform(titles_test)\n",
    "    elapsed_time(start_time, 'Word2Vec X_test')\n",
    "    \n",
    "    samples = X_train.shape[0]\n",
    "    print('samples per batch: ', samples//batches)\n",
    "\n",
    "    classifier = MultinomialNB()\n",
    "    \n",
    "    categories = y_train.unique()\n",
    "\n",
    "    for epoch in range(epochs):\n",
    "        \n",
    "        for batch in range(batches):\n",
    "            start_time = time.time()\n",
    "            start = (samples * batch)//batches\n",
    "            end = (samples * (batch + 1))//batches\n",
    "            classifier.partial_fit(X_train[ start:end ], y_train[ start:end ], \n",
    "                                   sample_weight=w_train[ start:end ], classes=categories)\n",
    "            if(batch==0):\n",
    "                elapsed_time(start_time, 'Batch')\n",
    "        if epoch % 5 == 0:\n",
    "            y_predicted = classifier.predict(X_test)\n",
    "            score = balanced_accuracy_score(y_true=y_test, y_pred=y_predicted, sample_weight=w_test)\n",
    "            print('finished epoch: ', epoch, 'with score:', score)\n",
    "            dump(classifier, 'models/checkpoint/' + language + '_classifier_' + run_id + '_' + str(epoch) + '.joblib') \n",
    "\n",
    "    y_predicted = classifier.predict(X_test)\n",
    "    score = balanced_accuracy_score(y_true=y_test, y_pred=y_predicted, sample_weight=w_test)\n",
    "    print('Final score: ', score)\n",
    "\n",
    "    dump(classifier, 'models/' + language + '_classifier_' + run_id + '.joblib') "
   ]
  },
  {
   "cell_type": "markdown",
   "metadata": {},
   "source": [
    "# Portuguese"
   ]
  },
  {
   "cell_type": "code",
   "execution_count": 9,
   "metadata": {},
   "outputs": [
    {
     "name": "stdout",
     "output_type": "stream",
     "text": [
      "(9980000,) (20000,) (9980000,) (20000,)\n",
      "Run id:  cb7e1220a901413aa002e26667cf29e6\n"
     ]
    },
    {
     "name": "stderr",
     "output_type": "stream",
     "text": [
      "/home/david/miniconda3/envs/ml-challenge/lib/python3.5/site-packages/sklearn/feature_extraction/text.py:300: UserWarning: Your stop_words may be inconsistent with your preprocessing. Tokenizing the stop words generated tokens ['dep'] not in stop_words.\n",
      "  'stop_words.' % sorted(inconsistent))\n"
     ]
    },
    {
     "name": "stdout",
     "output_type": "stream",
     "text": [
      "Fit vectorizer:  2419.16743850708\n",
      "Word2Vec X_train:  2273.612967967987\n",
      "Word2Vec X_test:  4.434809923171997\n",
      "samples per batch:  12475\n",
      "Batch:  1.2439532279968262\n",
      "finished epoch:  0 with score: 0.7169444564409991\n",
      "Batch:  1.057809591293335\n",
      "Batch:  1.0532116889953613\n",
      "Batch:  1.0431883335113525\n",
      "Batch:  1.0373973846435547\n",
      "Batch:  1.056246042251587\n"
     ]
    },
    {
     "name": "stderr",
     "output_type": "stream",
     "text": [
      "/home/david/miniconda3/envs/ml-challenge/lib/python3.5/site-packages/sklearn/metrics/classification.py:1745: UserWarning: y_pred contains classes not in y_true\n",
      "  warnings.warn('y_pred contains classes not in y_true')\n"
     ]
    },
    {
     "name": "stdout",
     "output_type": "stream",
     "text": [
      "finished epoch:  5 with score: 0.7905628376022475\n",
      "Batch:  1.2663767337799072\n",
      "Batch:  1.0384061336517334\n",
      "Batch:  1.0395982265472412\n",
      "Batch:  1.0424039363861084\n",
      "Batch:  1.0501832962036133\n"
     ]
    },
    {
     "name": "stderr",
     "output_type": "stream",
     "text": [
      "/home/david/miniconda3/envs/ml-challenge/lib/python3.5/site-packages/sklearn/metrics/classification.py:1745: UserWarning: y_pred contains classes not in y_true\n",
      "  warnings.warn('y_pred contains classes not in y_true')\n"
     ]
    },
    {
     "name": "stdout",
     "output_type": "stream",
     "text": [
      "finished epoch:  10 with score: 0.8036676947116833\n",
      "Batch:  1.4243512153625488\n",
      "Batch:  1.0485424995422363\n",
      "Batch:  1.050374984741211\n",
      "Batch:  1.0402331352233887\n",
      "Batch:  1.0450329780578613\n"
     ]
    },
    {
     "name": "stderr",
     "output_type": "stream",
     "text": [
      "/home/david/miniconda3/envs/ml-challenge/lib/python3.5/site-packages/sklearn/metrics/classification.py:1745: UserWarning: y_pred contains classes not in y_true\n",
      "  warnings.warn('y_pred contains classes not in y_true')\n"
     ]
    },
    {
     "name": "stdout",
     "output_type": "stream",
     "text": [
      "finished epoch:  15 with score: 0.8084125185388787\n",
      "Batch:  1.163055419921875\n",
      "Batch:  1.0377395153045654\n",
      "Batch:  1.042466402053833\n",
      "Batch:  1.0449936389923096\n",
      "Batch:  1.0508453845977783\n"
     ]
    },
    {
     "name": "stderr",
     "output_type": "stream",
     "text": [
      "/home/david/miniconda3/envs/ml-challenge/lib/python3.5/site-packages/sklearn/metrics/classification.py:1745: UserWarning: y_pred contains classes not in y_true\n",
      "  warnings.warn('y_pred contains classes not in y_true')\n"
     ]
    },
    {
     "name": "stdout",
     "output_type": "stream",
     "text": [
      "finished epoch:  20 with score: 0.8113600272390719\n",
      "Batch:  1.2137837409973145\n",
      "Batch:  1.0526952743530273\n",
      "Batch:  1.0332963466644287\n",
      "Batch:  1.048144817352295\n",
      "Batch:  1.0456194877624512\n"
     ]
    },
    {
     "name": "stderr",
     "output_type": "stream",
     "text": [
      "/home/david/miniconda3/envs/ml-challenge/lib/python3.5/site-packages/sklearn/metrics/classification.py:1745: UserWarning: y_pred contains classes not in y_true\n",
      "  warnings.warn('y_pred contains classes not in y_true')\n"
     ]
    },
    {
     "name": "stdout",
     "output_type": "stream",
     "text": [
      "finished epoch:  25 with score: 0.8125315743454791\n",
      "Batch:  1.2368619441986084\n",
      "Batch:  1.0544018745422363\n",
      "Batch:  1.033679723739624\n",
      "Batch:  1.0495307445526123\n",
      "Batch:  1.0544626712799072\n"
     ]
    },
    {
     "name": "stderr",
     "output_type": "stream",
     "text": [
      "/home/david/miniconda3/envs/ml-challenge/lib/python3.5/site-packages/sklearn/metrics/classification.py:1745: UserWarning: y_pred contains classes not in y_true\n",
      "  warnings.warn('y_pred contains classes not in y_true')\n"
     ]
    },
    {
     "name": "stdout",
     "output_type": "stream",
     "text": [
      "finished epoch:  30 with score: 0.8133931204622632\n",
      "Batch:  1.2157008647918701\n",
      "Batch:  1.0461325645446777\n",
      "Batch:  1.038977861404419\n",
      "Batch:  1.0388455390930176\n",
      "Batch:  1.0452547073364258\n"
     ]
    },
    {
     "name": "stderr",
     "output_type": "stream",
     "text": [
      "/home/david/miniconda3/envs/ml-challenge/lib/python3.5/site-packages/sklearn/metrics/classification.py:1745: UserWarning: y_pred contains classes not in y_true\n",
      "  warnings.warn('y_pred contains classes not in y_true')\n"
     ]
    },
    {
     "name": "stdout",
     "output_type": "stream",
     "text": [
      "finished epoch:  35 with score: 0.8144510150840255\n",
      "Batch:  1.2010583877563477\n",
      "Batch:  1.051405668258667\n",
      "Batch:  1.0573959350585938\n",
      "Batch:  1.050283670425415\n",
      "Batch:  1.0396780967712402\n"
     ]
    },
    {
     "name": "stderr",
     "output_type": "stream",
     "text": [
      "/home/david/miniconda3/envs/ml-challenge/lib/python3.5/site-packages/sklearn/metrics/classification.py:1745: UserWarning: y_pred contains classes not in y_true\n",
      "  warnings.warn('y_pred contains classes not in y_true')\n"
     ]
    },
    {
     "name": "stdout",
     "output_type": "stream",
     "text": [
      "finished epoch:  40 with score: 0.8153922459781121\n",
      "Batch:  1.189058780670166\n",
      "Batch:  1.040757417678833\n",
      "Batch:  1.0504093170166016\n",
      "Batch:  1.045663595199585\n",
      "Batch:  1.0397896766662598\n"
     ]
    },
    {
     "name": "stderr",
     "output_type": "stream",
     "text": [
      "/home/david/miniconda3/envs/ml-challenge/lib/python3.5/site-packages/sklearn/metrics/classification.py:1745: UserWarning: y_pred contains classes not in y_true\n",
      "  warnings.warn('y_pred contains classes not in y_true')\n"
     ]
    },
    {
     "name": "stdout",
     "output_type": "stream",
     "text": [
      "finished epoch:  45 with score: 0.8158434670174595\n",
      "Batch:  1.2622241973876953\n",
      "Batch:  1.0428385734558105\n",
      "Batch:  1.043147325515747\n",
      "Batch:  1.0564706325531006\n",
      "Batch:  1.3774182796478271\n"
     ]
    },
    {
     "name": "stderr",
     "output_type": "stream",
     "text": [
      "/home/david/miniconda3/envs/ml-challenge/lib/python3.5/site-packages/sklearn/metrics/classification.py:1745: UserWarning: y_pred contains classes not in y_true\n",
      "  warnings.warn('y_pred contains classes not in y_true')\n"
     ]
    },
    {
     "name": "stdout",
     "output_type": "stream",
     "text": [
      "finished epoch:  50 with score: 0.8169656068289127\n",
      "Batch:  1.697082757949829\n",
      "Batch:  1.0552968978881836\n",
      "Batch:  1.0593597888946533\n",
      "Batch:  1.0440232753753662\n",
      "Batch:  1.061199426651001\n"
     ]
    },
    {
     "name": "stderr",
     "output_type": "stream",
     "text": [
      "/home/david/miniconda3/envs/ml-challenge/lib/python3.5/site-packages/sklearn/metrics/classification.py:1745: UserWarning: y_pred contains classes not in y_true\n",
      "  warnings.warn('y_pred contains classes not in y_true')\n"
     ]
    },
    {
     "name": "stdout",
     "output_type": "stream",
     "text": [
      "finished epoch:  55 with score: 0.8171818491741308\n",
      "Batch:  1.620112657546997\n",
      "Batch:  1.0542919635772705\n",
      "Batch:  1.0568559169769287\n",
      "Batch:  1.0579240322113037\n"
     ]
    },
    {
     "name": "stderr",
     "output_type": "stream",
     "text": [
      "/home/david/miniconda3/envs/ml-challenge/lib/python3.5/site-packages/sklearn/metrics/classification.py:1745: UserWarning: y_pred contains classes not in y_true\n",
      "  warnings.warn('y_pred contains classes not in y_true')\n"
     ]
    },
    {
     "name": "stdout",
     "output_type": "stream",
     "text": [
      "Final score:  0.8171494065095651\n"
     ]
    }
   ],
   "source": [
    "filtered = filter_small_categories(train_portuguese)\n",
    "\n",
    "train(filtered['title'], filtered['category'], filtered['weight'], language='portuguese', max_features = 20000,\n",
    "     batches=800, epochs=60, test_size=0.002)"
   ]
  },
  {
   "cell_type": "markdown",
   "metadata": {},
   "source": [
    "# Spanish"
   ]
  },
  {
   "cell_type": "code",
   "execution_count": 10,
   "metadata": {
    "scrolled": true
   },
   "outputs": [
    {
     "name": "stdout",
     "output_type": "stream",
     "text": [
      "(9980000,) (20000,) (9980000,) (20000,)\n",
      "Run id:  0495c1663b1442518c1282fa490a8be2\n"
     ]
    },
    {
     "name": "stderr",
     "output_type": "stream",
     "text": [
      "/home/david/miniconda3/envs/ml-challenge/lib/python3.5/site-packages/sklearn/feature_extraction/text.py:300: UserWarning: Your stop_words may be inconsistent with your preprocessing. Tokenizing the stop words generated tokens ['estuvi', 'hubi', 'tuvi'] not in stop_words.\n",
      "  'stop_words.' % sorted(inconsistent))\n"
     ]
    },
    {
     "name": "stdout",
     "output_type": "stream",
     "text": [
      "Fit vectorizer:  2160.6638283729553\n",
      "Word2Vec X_train:  2164.277093410492\n",
      "Word2Vec X_test:  4.3777549266815186\n",
      "samples per batch:  12475\n",
      "Batch:  1.604860782623291\n",
      "finished epoch:  0 with score: 0.6894358133677794\n",
      "Batch:  1.6023211479187012\n",
      "Batch:  1.0592050552368164\n",
      "Batch:  1.0514397621154785\n",
      "Batch:  1.0554003715515137\n",
      "Batch:  1.0685057640075684\n",
      "finished epoch:  5 with score: 0.7703840962260698\n",
      "Batch:  1.3756449222564697\n",
      "Batch:  1.0657825469970703\n",
      "Batch:  1.0580158233642578\n",
      "Batch:  1.0552031993865967\n",
      "Batch:  1.0449573993682861\n",
      "finished epoch:  10 with score: 0.7873343422612727\n",
      "Batch:  1.2690224647521973\n",
      "Batch:  1.0672268867492676\n",
      "Batch:  1.0845885276794434\n",
      "Batch:  1.0503854751586914\n",
      "Batch:  1.0615041255950928\n"
     ]
    },
    {
     "name": "stderr",
     "output_type": "stream",
     "text": [
      "/home/david/miniconda3/envs/ml-challenge/lib/python3.5/site-packages/sklearn/metrics/classification.py:1745: UserWarning: y_pred contains classes not in y_true\n",
      "  warnings.warn('y_pred contains classes not in y_true')\n"
     ]
    },
    {
     "name": "stdout",
     "output_type": "stream",
     "text": [
      "finished epoch:  15 with score: 0.7934842372674912\n",
      "Batch:  1.2656989097595215\n",
      "Batch:  1.0597023963928223\n",
      "Batch:  1.0645697116851807\n",
      "Batch:  1.0622332096099854\n",
      "Batch:  1.0587666034698486\n"
     ]
    },
    {
     "name": "stderr",
     "output_type": "stream",
     "text": [
      "/home/david/miniconda3/envs/ml-challenge/lib/python3.5/site-packages/sklearn/metrics/classification.py:1745: UserWarning: y_pred contains classes not in y_true\n",
      "  warnings.warn('y_pred contains classes not in y_true')\n"
     ]
    },
    {
     "name": "stdout",
     "output_type": "stream",
     "text": [
      "finished epoch:  20 with score: 0.7969632281524075\n",
      "Batch:  1.338318109512329\n",
      "Batch:  1.0685498714447021\n",
      "Batch:  1.0404064655303955\n",
      "Batch:  1.0657014846801758\n",
      "Batch:  1.0575990676879883\n"
     ]
    },
    {
     "name": "stderr",
     "output_type": "stream",
     "text": [
      "/home/david/miniconda3/envs/ml-challenge/lib/python3.5/site-packages/sklearn/metrics/classification.py:1745: UserWarning: y_pred contains classes not in y_true\n",
      "  warnings.warn('y_pred contains classes not in y_true')\n"
     ]
    },
    {
     "name": "stdout",
     "output_type": "stream",
     "text": [
      "finished epoch:  25 with score: 0.7984228690362879\n",
      "Batch:  1.2653555870056152\n",
      "Batch:  1.064096450805664\n",
      "Batch:  1.0597388744354248\n",
      "Batch:  1.0601775646209717\n",
      "Batch:  1.0715968608856201\n"
     ]
    },
    {
     "name": "stderr",
     "output_type": "stream",
     "text": [
      "/home/david/miniconda3/envs/ml-challenge/lib/python3.5/site-packages/sklearn/metrics/classification.py:1745: UserWarning: y_pred contains classes not in y_true\n",
      "  warnings.warn('y_pred contains classes not in y_true')\n"
     ]
    },
    {
     "name": "stdout",
     "output_type": "stream",
     "text": [
      "finished epoch:  30 with score: 0.7993922764111777\n",
      "Batch:  1.3590261936187744\n",
      "Batch:  1.050959587097168\n",
      "Batch:  1.0648865699768066\n",
      "Batch:  1.0602929592132568\n",
      "Batch:  1.0490484237670898\n"
     ]
    },
    {
     "name": "stderr",
     "output_type": "stream",
     "text": [
      "/home/david/miniconda3/envs/ml-challenge/lib/python3.5/site-packages/sklearn/metrics/classification.py:1745: UserWarning: y_pred contains classes not in y_true\n",
      "  warnings.warn('y_pred contains classes not in y_true')\n"
     ]
    },
    {
     "name": "stdout",
     "output_type": "stream",
     "text": [
      "finished epoch:  35 with score: 0.7991020767525996\n",
      "Batch:  1.3765270709991455\n",
      "Batch:  1.0627126693725586\n",
      "Batch:  1.0554227828979492\n",
      "Batch:  1.0449397563934326\n",
      "Batch:  1.0544843673706055\n"
     ]
    },
    {
     "name": "stderr",
     "output_type": "stream",
     "text": [
      "/home/david/miniconda3/envs/ml-challenge/lib/python3.5/site-packages/sklearn/metrics/classification.py:1745: UserWarning: y_pred contains classes not in y_true\n",
      "  warnings.warn('y_pred contains classes not in y_true')\n"
     ]
    },
    {
     "name": "stdout",
     "output_type": "stream",
     "text": [
      "finished epoch:  40 with score: 0.7991458023737465\n",
      "Batch:  1.4795165061950684\n",
      "Batch:  1.045588493347168\n",
      "Batch:  1.04170560836792\n",
      "Batch:  1.042811632156372\n",
      "Batch:  1.0482923984527588\n"
     ]
    },
    {
     "name": "stderr",
     "output_type": "stream",
     "text": [
      "/home/david/miniconda3/envs/ml-challenge/lib/python3.5/site-packages/sklearn/metrics/classification.py:1745: UserWarning: y_pred contains classes not in y_true\n",
      "  warnings.warn('y_pred contains classes not in y_true')\n"
     ]
    },
    {
     "name": "stdout",
     "output_type": "stream",
     "text": [
      "finished epoch:  45 with score: 0.7996675192198194\n",
      "Batch:  1.2495479583740234\n",
      "Batch:  1.042975902557373\n",
      "Batch:  1.0727779865264893\n",
      "Batch:  1.0554697513580322\n",
      "Batch:  1.0508873462677002\n"
     ]
    },
    {
     "name": "stderr",
     "output_type": "stream",
     "text": [
      "/home/david/miniconda3/envs/ml-challenge/lib/python3.5/site-packages/sklearn/metrics/classification.py:1745: UserWarning: y_pred contains classes not in y_true\n",
      "  warnings.warn('y_pred contains classes not in y_true')\n"
     ]
    },
    {
     "name": "stdout",
     "output_type": "stream",
     "text": [
      "finished epoch:  50 with score: 0.8002197057603094\n",
      "Batch:  1.380624771118164\n",
      "Batch:  1.0443518161773682\n",
      "Batch:  1.082435131072998\n",
      "Batch:  1.053795337677002\n",
      "Batch:  1.0418567657470703\n"
     ]
    },
    {
     "name": "stderr",
     "output_type": "stream",
     "text": [
      "/home/david/miniconda3/envs/ml-challenge/lib/python3.5/site-packages/sklearn/metrics/classification.py:1745: UserWarning: y_pred contains classes not in y_true\n",
      "  warnings.warn('y_pred contains classes not in y_true')\n"
     ]
    },
    {
     "name": "stdout",
     "output_type": "stream",
     "text": [
      "finished epoch:  55 with score: 0.8003359171533589\n",
      "Batch:  1.2525625228881836\n",
      "Batch:  1.0906317234039307\n",
      "Batch:  1.0672686100006104\n",
      "Batch:  1.0749897956848145\n"
     ]
    },
    {
     "name": "stderr",
     "output_type": "stream",
     "text": [
      "/home/david/miniconda3/envs/ml-challenge/lib/python3.5/site-packages/sklearn/metrics/classification.py:1745: UserWarning: y_pred contains classes not in y_true\n",
      "  warnings.warn('y_pred contains classes not in y_true')\n"
     ]
    },
    {
     "name": "stdout",
     "output_type": "stream",
     "text": [
      "Final score:  0.8003615999313354\n"
     ]
    }
   ],
   "source": [
    "filtered = filter_small_categories(train_spanish)\n",
    "\n",
    "train(filtered['title'], filtered['category'], filtered['weight'], language='spanish', max_features = 20000,\n",
    "     batches=800, epochs=60, test_size=0.002)"
   ]
  },
  {
   "cell_type": "code",
   "execution_count": null,
   "metadata": {},
   "outputs": [],
   "source": []
  },
  {
   "cell_type": "code",
   "execution_count": null,
   "metadata": {},
   "outputs": [],
   "source": []
  }
 ],
 "metadata": {
  "kernelspec": {
   "display_name": "Python 3",
   "language": "python",
   "name": "python3"
  },
  "language_info": {
   "codemirror_mode": {
    "name": "ipython",
    "version": 3
   },
   "file_extension": ".py",
   "mimetype": "text/x-python",
   "name": "python",
   "nbconvert_exporter": "python",
   "pygments_lexer": "ipython3",
   "version": "3.5.6"
  }
 },
 "nbformat": 4,
 "nbformat_minor": 2
}
